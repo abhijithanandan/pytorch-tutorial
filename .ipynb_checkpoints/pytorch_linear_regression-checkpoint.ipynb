{
 "cells": [
  {
   "cell_type": "markdown",
   "metadata": {},
   "source": [
    "# 6. Linear Regression with PyTorch\n",
    "## 1. About Linear Regression\n"
   ]
  },
  {
   "cell_type": "markdown",
   "metadata": {},
   "source": [
    "### 1.1 Simple Linear Regression Basics\n",
    "- Allows us to understand **relationship** between two **continuous variables**\n",
    "- Example\n",
    "    - x: independent variable\n",
    "        - weight\n",
    "    - y: dependent variable\n",
    "        - height\n",
    "- $y = \\alpha x + \\beta$"
   ]
  },
  {
   "cell_type": "markdown",
   "metadata": {},
   "source": [
    "### 1.2 Example of simple linear regression"
   ]
  },
  {
   "cell_type": "code",
   "execution_count": 1,
   "metadata": {},
   "outputs": [
    {
     "name": "stderr",
     "output_type": "stream",
     "text": [
      "Matplotlib is building the font cache; this may take a moment.\n"
     ]
    },
    {
     "data": {
      "image/png": "[encoded data removed]",
      "text/plain": [
       "<Figure size 432x288 with 1 Axes>"
      ]
     },
     "metadata": {
      "needs_background": "light"
     },
     "output_type": "display_data"
    }
   ],
   "source": [
    "import numpy as np\n",
    "import matplotlib.pyplot as plt\n",
    "%matplotlib inline\n",
    "\n",
    "np.random.seed(1)\n",
    "n = 50\n",
    "x = np.random.randn(n)\n",
    "y = x * np.random.randn(n)\n",
    "\n",
    "colors = np.random.rand(n)\n",
    "plt.plot(np.unique(x), np.poly1d(np.polyfit(x, y, 1))(np.unique(x)))\n",
    "\n",
    "plt.scatter(x, y, c=colors, alpha=0.5)\n",
    "plt.show()"
   ]
  },
  {
   "cell_type": "markdown",
   "metadata": {},
   "source": [
    "### 1.3 Aim of Linear Regression\n",
    "- Minimize the distance between the points and the line ($y = \\alpha x + \\beta$)\n",
    "- Adjusting\n",
    "    - Coefficient: $\\alpha$\n",
    "    - Bias/intercept: $\\beta$\n",
    "\n",
    "## 2. Building a Linear Regression Model with PyTorch\n",
    "\n",
    "### 2.1 Example\n",
    "- Coefficient: $\\alpha = 2$\n",
    "- Bias/intercept: $\\beta = 1$\n",
    "- Equation: $y = 2x + 1$"
   ]
  },
  {
   "cell_type": "markdown",
   "metadata": {},
   "source": [
    "### 2.2 Building a Toy Dataset"
   ]
  },
  {
   "cell_type": "code",
   "execution_count": 2,
   "metadata": {},
   "outputs": [],
   "source": [
    "x_values = [i for i in range(11)]"
   ]
  },
  {
   "cell_type": "code",
   "execution_count": 3,
   "metadata": {},
   "outputs": [
    {
     "data": {
      "text/plain": [
       "[0, 1, 2, 3, 4, 5, 6, 7, 8, 9, 10]"
      ]
     },
     "execution_count": 3,
     "metadata": {},
     "output_type": "execute_result"
    }
   ],
   "source": [
    "x_values"
   ]
  },
  {
   "cell_type": "code",
   "execution_count": 4,
   "metadata": {},
   "outputs": [
    {
     "data": {
      "text/plain": [
       "(11,)"
      ]
     },
     "execution_count": 4,
     "metadata": {},
     "output_type": "execute_result"
    }
   ],
   "source": [
    "# Convert to numpy\n",
    "x_train = np.array(x_values, dtype=np.float32)\n",
    "x_train.shape"
   ]
  },
  {
   "cell_type": "code",
   "execution_count": 5,
   "metadata": {},
   "outputs": [
    {
     "data": {
      "text/plain": [
       "(11, 1)"
      ]
     },
     "execution_count": 5,
     "metadata": {},
     "output_type": "execute_result"
    }
   ],
   "source": [
    "# IMPORTANT: 2D required\n",
    "x_train = x_train.reshape(-1, 1)\n",
    "x_train.shape"
   ]
  },
  {
   "cell_type": "markdown",
   "metadata": {},
   "source": [
    "$y = 2x + 1$"
   ]
  },
  {
   "cell_type": "code",
   "execution_count": 6,
   "metadata": {},
   "outputs": [],
   "source": [
    "y_values = [2*i + 1 for i in x_values]"
   ]
  },
  {
   "cell_type": "code",
   "execution_count": 7,
   "metadata": {},
   "outputs": [
    {
     "data": {
      "text/plain": [
       "[1, 3, 5, 7, 9, 11, 13, 15, 17, 19, 21]"
      ]
     },
     "execution_count": 7,
     "metadata": {},
     "output_type": "execute_result"
    }
   ],
   "source": [
    "y_values"
   ]
  },
  {
   "cell_type": "code",
   "execution_count": 8,
   "metadata": {},
   "outputs": [],
   "source": [
    "# In case you're weak in list iterators...\n",
    "y_values = []\n",
    "for i in x_values:\n",
    "    result = 2*i + 1\n",
    "    y_values.append(result) "
   ]
  },
  {
   "cell_type": "code",
   "execution_count": 9,
   "metadata": {},
   "outputs": [
    {
     "data": {
      "text/plain": [
       "[1, 3, 5, 7, 9, 11, 13, 15, 17, 19, 21]"
      ]
     },
     "execution_count": 9,
     "metadata": {},
     "output_type": "execute_result"
    }
   ],
   "source": [
    "y_values"
   ]
  },
  {
   "cell_type": "code",
   "execution_count": 10,
   "metadata": {},
   "outputs": [
    {
     "data": {
      "text/plain": [
       "(11,)"
      ]
     },
     "execution_count": 10,
     "metadata": {},
     "output_type": "execute_result"
    }
   ],
   "source": [
    "y_train = np.array(y_values, dtype=np.float32)\n",
    "y_train.shape"
   ]
  },
  {
   "cell_type": "code",
   "execution_count": 11,
   "metadata": {},
   "outputs": [
    {
     "data": {
      "text/plain": [
       "(11, 1)"
      ]
     },
     "execution_count": 11,
     "metadata": {},
     "output_type": "execute_result"
    }
   ],
   "source": [
    "# IMPORTANT: 2D required\n",
    "y_train = y_train.reshape(-1, 1)\n",
    "y_train.shape"
   ]
  },
  {
   "cell_type": "markdown",
   "metadata": {},
   "source": [
    "### 2.3 Building Model"
   ]
  },
  {
   "cell_type": "markdown",
   "metadata": {},
   "source": [
    "**Critical Imports**"
   ]
  },
  {
   "cell_type": "code",
   "execution_count": 1,
   "metadata": {},
   "outputs": [],
   "source": [
    "import torch\n",
    "import torch.nn as nn"
   ]
  },
  {
   "cell_type": "markdown",
   "metadata": {},
   "source": [
    "**Create Model**\n",
    "1. Linear model\n",
    "    - True Equation: $y = 2x + 1$\n",
    "2. Forward\n",
    "    - Example\n",
    "        - Input $x = 1 $\n",
    "        - Output $\\hat y = ?$"
   ]
  },
  {
   "cell_type": "code",
   "execution_count": 13,
   "metadata": {},
   "outputs": [],
   "source": [
    "# Create class\n",
    "class LinearRegressionModel(nn.Module):\n",
    "    def __init__(self, input_dim, output_dim):\n",
    "        super(LinearRegressionModel, self).__init__()\n",
    "        self.linear = nn.Linear(input_dim, output_dim)  \n",
    "    \n",
    "    def forward(self, x):\n",
    "        out = self.linear(x)\n",
    "        return out"
   ]
  },
  {
   "cell_type": "markdown",
   "metadata": {},
   "source": [
    "**Instantiate Model Class**\n",
    "- input: [0, 1, 2, 3, 4, 5, 6, 7, 8, 9, 10]\n",
    "- desired output: [1, 3, 5, 7, 9, 11, 13, 15, 17, 19, 21]"
   ]
  },
  {
   "cell_type": "code",
   "execution_count": 14,
   "metadata": {},
   "outputs": [],
   "source": [
    "input_dim = 1\n",
    "output_dim = 1\n",
    "\n",
    "model = LinearRegressionModel(input_dim, output_dim)"
   ]
  },
  {
   "cell_type": "markdown",
   "metadata": {},
   "source": [
    "**Instantiate Loss Class**\n",
    "- MSE Loss: Mean Squared Error\n",
    "- $MSE = \\frac{1}{n} \\sum_{i=1}^n(\\hat y_i - y_i)$\n",
    "    - $\\hat y$: prediction\n",
    "    - $y$: true value"
   ]
  },
  {
   "cell_type": "code",
   "execution_count": 15,
   "metadata": {},
   "outputs": [],
   "source": [
    "criterion = nn.MSELoss()"
   ]
  },
  {
   "cell_type": "markdown",
   "metadata": {},
   "source": [
    "**Instantiate Optimizer Class**\n",
    "- Simplified equation\n",
    "    - $\\theta = \\theta - \\eta \\cdot \\nabla_\\theta $\n",
    "        - $\\theta$: parameters (our variables)\n",
    "        - $\\eta$: learning rate (how fast we want to learn)\n",
    "        - $\\nabla_\\theta$: parameters' gradients\n",
    "- Even simplier equation\n",
    "    - `parameters = parameters - learning_rate * parameters_gradients`\n",
    "        - parameters: $\\alpha$ and $\\beta$ in $ y = \\alpha x + \\beta$\n",
    "        - desired parameters: $\\alpha = 2$ and $\\beta = 1$ in $ y = 2x + 1$"
   ]
  },
  {
   "cell_type": "code",
   "execution_count": 16,
   "metadata": {},
   "outputs": [],
   "source": [
    "learning_rate = 0.01\n",
    "\n",
    "optimizer = torch.optim.SGD(model.parameters(), lr=learning_rate)"
   ]
  },
  {
   "cell_type": "markdown",
   "metadata": {},
   "source": [
    "**Train Model**\n",
    "- 1 epoch: going through the whole x_train data once\n",
    "    - 100 epochs: \n",
    "        - 100x mapping `x_train = [0, 1, 2, 3, 4, 5, 6, 7, 8, 9, 10]`\n",
    "        \n",
    "- Process \n",
    "    1. Convert inputs/labels to tensors with gradients\n",
    "    2. Clear gradient buffets\n",
    "    3. Get output given inputs \n",
    "    4. Get loss\n",
    "    5. Get gradients w.r.t. parameters\n",
    "    6. Update parameters using gradients\n",
    "        - `parameters = parameters - learning_rate * parameters_gradients`\n",
    "    7. REPEAT"
   ]
  },
  {
   "cell_type": "code",
   "execution_count": 17,
   "metadata": {},
   "outputs": [],
   "source": [
    "epochs = 100"
   ]
  },
  {
   "cell_type": "code",
   "execution_count": 18,
   "metadata": {
    "scrolled": true
   },
   "outputs": [
    {
     "name": "stdout",
     "output_type": "stream",
     "text": [
      "epoch 1, loss 184.28160095214844\n",
      "epoch 2, loss 15.066327095031738\n",
      "epoch 3, loss 1.2635798454284668\n",
      "epoch 4, loss 0.13734565675258636\n",
      "epoch 5, loss 0.04509982094168663\n",
      "epoch 6, loss 0.037197187542915344\n",
      "epoch 7, loss 0.03617827594280243\n",
      "epoch 8, loss 0.03572499379515648\n",
      "epoch 9, loss 0.03532210737466812\n",
      "epoch 10, loss 0.03492739424109459\n",
      "epoch 11, loss 0.03453722223639488\n",
      "epoch 12, loss 0.03415156900882721\n",
      "epoch 13, loss 0.033770233392715454\n",
      "epoch 14, loss 0.03339312970638275\n",
      "epoch 15, loss 0.0330202616751194\n",
      "epoch 16, loss 0.03265157714486122\n",
      "epoch 17, loss 0.03228694945573807\n",
      "epoch 18, loss 0.03192642703652382\n",
      "epoch 19, loss 0.03156987950205803\n",
      "epoch 20, loss 0.031217364594340324\n",
      "epoch 21, loss 0.030868710950016975\n",
      "epoch 22, loss 0.030524013563990593\n",
      "epoch 23, loss 0.030183112248778343\n",
      "epoch 24, loss 0.029846113175153732\n",
      "epoch 25, loss 0.02951282076537609\n",
      "epoch 26, loss 0.029183227568864822\n",
      "epoch 27, loss 0.028857318684458733\n",
      "epoch 28, loss 0.028535135090351105\n",
      "epoch 29, loss 0.028216475620865822\n",
      "epoch 30, loss 0.027901362627744675\n",
      "epoch 31, loss 0.02758985012769699\n",
      "epoch 32, loss 0.02728177420794964\n",
      "epoch 33, loss 0.026977064087986946\n",
      "epoch 34, loss 0.026675855740904808\n",
      "epoch 35, loss 0.02637794427573681\n",
      "epoch 36, loss 0.02608346939086914\n",
      "epoch 37, loss 0.025792116299271584\n",
      "epoch 38, loss 0.02550404705107212\n",
      "epoch 39, loss 0.0252192635089159\n",
      "epoch 40, loss 0.024937618523836136\n",
      "epoch 41, loss 0.02465926483273506\n",
      "epoch 42, loss 0.024383829906582832\n",
      "epoch 43, loss 0.02411159873008728\n",
      "epoch 44, loss 0.023842312395572662\n",
      "epoch 45, loss 0.02357606776058674\n",
      "epoch 46, loss 0.02331271767616272\n",
      "epoch 47, loss 0.023052459582686424\n",
      "epoch 48, loss 0.022795075550675392\n",
      "epoch 49, loss 0.022540507838129997\n",
      "epoch 50, loss 0.02228877693414688\n",
      "epoch 51, loss 0.022039897739887238\n",
      "epoch 52, loss 0.021793754771351814\n",
      "epoch 53, loss 0.021550377830863\n",
      "epoch 54, loss 0.021309752017259598\n",
      "epoch 55, loss 0.021071817725896835\n",
      "epoch 56, loss 0.020836498588323593\n",
      "epoch 57, loss 0.020603837445378304\n",
      "epoch 58, loss 0.02037370204925537\n",
      "epoch 59, loss 0.020146213471889496\n",
      "epoch 60, loss 0.01992124505341053\n",
      "epoch 61, loss 0.019698774442076683\n",
      "epoch 62, loss 0.019478801637887955\n",
      "epoch 63, loss 0.01926122047007084\n",
      "epoch 64, loss 0.019046209752559662\n",
      "epoch 65, loss 0.018833443522453308\n",
      "epoch 66, loss 0.01862318255007267\n",
      "epoch 67, loss 0.018415169790387154\n",
      "epoch 68, loss 0.01820962317287922\n",
      "epoch 69, loss 0.018006261438131332\n",
      "epoch 70, loss 0.017805196344852448\n",
      "epoch 71, loss 0.017606304958462715\n",
      "epoch 72, loss 0.017409713938832283\n",
      "epoch 73, loss 0.017215382307767868\n",
      "epoch 74, loss 0.01702308841049671\n",
      "epoch 75, loss 0.016832973808050156\n",
      "epoch 76, loss 0.016645001247525215\n",
      "epoch 77, loss 0.016459088772535324\n",
      "epoch 78, loss 0.01627536304295063\n",
      "epoch 79, loss 0.016093669459223747\n",
      "epoch 80, loss 0.01591389998793602\n",
      "epoch 81, loss 0.015736199915409088\n",
      "epoch 82, loss 0.015560456551611423\n",
      "epoch 83, loss 0.015386729501187801\n",
      "epoch 84, loss 0.0152148911729455\n",
      "epoch 85, loss 0.015044930391013622\n",
      "epoch 86, loss 0.014876947738230228\n",
      "epoch 87, loss 0.014710888266563416\n",
      "epoch 88, loss 0.014546616934239864\n",
      "epoch 89, loss 0.014384156093001366\n",
      "epoch 90, loss 0.014223530888557434\n",
      "epoch 91, loss 0.014064696617424488\n",
      "epoch 92, loss 0.013907615095376968\n",
      "epoch 93, loss 0.013752254657447338\n",
      "epoch 94, loss 0.013598686084151268\n",
      "epoch 95, loss 0.013446897268295288\n",
      "epoch 96, loss 0.013296753168106079\n",
      "epoch 97, loss 0.013148256577551365\n",
      "epoch 98, loss 0.013001474551856518\n",
      "epoch 99, loss 0.01285624410957098\n",
      "epoch 100, loss 0.012712658382952213\n"
     ]
    }
   ],
   "source": [
    "for epoch in range(epochs):\n",
    "    epoch += 1\n",
    "    # Convert numpy array to torch Variable\n",
    "    inputs = torch.from_numpy(x_train).requires_grad_()\n",
    "    labels = torch.from_numpy(y_train)\n",
    "\n",
    "    # Clear gradients w.r.t. parameters\n",
    "    optimizer.zero_grad() \n",
    "    \n",
    "    # Forward to get output\n",
    "    outputs = model(inputs)\n",
    "    \n",
    "    # Calculate Loss\n",
    "    loss = criterion(outputs, labels)\n",
    "    \n",
    "    # Getting gradients w.r.t. parameters\n",
    "    loss.backward()\n",
    "    \n",
    "    # Updating parameters\n",
    "    optimizer.step()\n",
    "    \n",
    "    print('epoch {}, loss {}'.format(epoch, loss.item()))"
   ]
  },
  {
   "cell_type": "markdown",
   "metadata": {},
   "source": [
    "**Compare Data**"
   ]
  },
  {
   "cell_type": "code",
   "execution_count": 19,
   "metadata": {},
   "outputs": [
    {
     "data": {
      "text/plain": [
       "array([[ 0.79026127],\n",
       "       [ 2.8204656 ],\n",
       "       [ 4.85067   ],\n",
       "       [ 6.880874  ],\n",
       "       [ 8.911078  ],\n",
       "       [10.941283  ],\n",
       "       [12.971487  ],\n",
       "       [15.001691  ],\n",
       "       [17.031895  ],\n",
       "       [19.0621    ],\n",
       "       [21.092304  ]], dtype=float32)"
      ]
     },
     "execution_count": 19,
     "metadata": {},
     "output_type": "execute_result"
    }
   ],
   "source": [
    "# Purely inference\n",
    "predicted = model(torch.from_numpy(x_train).requires_grad_()).data.numpy()\n",
    "predicted"
   ]
  },
  {
   "cell_type": "code",
   "execution_count": 20,
   "metadata": {},
   "outputs": [
    {
     "data": {
      "text/plain": [
       "array([[ 1.],\n",
       "       [ 3.],\n",
       "       [ 5.],\n",
       "       [ 7.],\n",
       "       [ 9.],\n",
       "       [11.],\n",
       "       [13.],\n",
       "       [15.],\n",
       "       [17.],\n",
       "       [19.],\n",
       "       [21.]], dtype=float32)"
      ]
     },
     "execution_count": 20,
     "metadata": {},
     "output_type": "execute_result"
    }
   ],
   "source": [
    "# y = 2x + 1 \n",
    "y_train"
   ]
  },
  {
   "cell_type": "markdown",
   "metadata": {},
   "source": [
    "**Plot Graph**"
   ]
  },
  {
   "cell_type": "code",
   "execution_count": 21,
   "metadata": {},
   "outputs": [
    {
     "data": {
      "image/png": "[encoded data removed]",
      "text/plain": [
       "<Figure size 432x288 with 1 Axes>"
      ]
     },
     "metadata": {
      "needs_background": "light"
     },
     "output_type": "display_data"
    }
   ],
   "source": [
    "# Clear figure\n",
    "plt.clf()\n",
    "\n",
    "# Get predictions\n",
    "predicted = model(torch.from_numpy(x_train).requires_grad_()).data.numpy()\n",
    "\n",
    "# Plot true data\n",
    "plt.plot(x_train, y_train, 'go', label='True data', alpha=0.5)\n",
    "\n",
    "# Plot predictions\n",
    "plt.plot(x_train, predicted, '--', label='Predictions', alpha=0.5)\n",
    "\n",
    "# Legend and plot\n",
    "plt.legend(loc='best')\n",
    "plt.show()"
   ]
  },
  {
   "cell_type": "markdown",
   "metadata": {},
   "source": [
    "**Save Model**"
   ]
  },
  {
   "cell_type": "code",
   "execution_count": 22,
   "metadata": {},
   "outputs": [],
   "source": [
    "save_model = False\n",
    "if save_model is True:\n",
    "    # Saves only parameters\n",
    "    # alpha & beta\n",
    "    torch.save(model.state_dict(), 'awesome_model.pkl')"
   ]
  },
  {
   "cell_type": "markdown",
   "metadata": {},
   "source": [
    "**Load Model**"
   ]
  },
  {
   "cell_type": "code",
   "execution_count": 23,
   "metadata": {},
   "outputs": [],
   "source": [
    "load_model = False\n",
    "if load_model is True:\n",
    "    model.load_state_dict(torch.load('awesome_model.pkl'))"
   ]
  },
  {
   "cell_type": "markdown",
   "metadata": {},
   "source": [
    "## 3. Building a Linear Regression Model with PyTorch (GPU)\n",
    "\n"
   ]
  },
  {
   "cell_type": "markdown",
   "metadata": {},
   "source": [
    "**CPU Summary**"
   ]
  },
  {
   "cell_type": "code",
   "execution_count": 24,
   "metadata": {},
   "outputs": [],
   "source": [
    "import torch\n",
    "import torch.nn as nn\n",
    "\n",
    "'''\n",
    "STEP 1: CREATE MODEL CLASS\n",
    "'''\n",
    "class LinearRegressionModel(nn.Module):\n",
    "    def __init__(self, input_dim, output_dim):\n",
    "        super(LinearRegressionModel, self).__init__()\n",
    "        self.linear = nn.Linear(input_dim, output_dim)  \n",
    "    \n",
    "    def forward(self, x):\n",
    "        out = self.linear(x)\n",
    "        return out\n",
    "\n",
    "'''\n",
    "STEP 2: INSTANTIATE MODEL CLASS\n",
    "'''\n",
    "input_dim = 1\n",
    "output_dim = 1\n",
    "\n",
    "model = LinearRegressionModel(input_dim, output_dim)\n",
    "\n",
    "'''\n",
    "STEP 3: INSTANTIATE LOSS CLASS\n",
    "'''\n",
    "\n",
    "criterion = nn.MSELoss()\n",
    "\n",
    "'''\n",
    "STEP 4: INSTANTIATE OPTIMIZER CLASS\n",
    "'''\n",
    "\n",
    "learning_rate = 0.01\n",
    "\n",
    "optimizer = torch.optim.SGD(model.parameters(), lr=learning_rate)\n",
    "\n",
    "'''\n",
    "STEP 5: TRAIN THE MODEL\n",
    "'''\n",
    "epochs = 100\n",
    "for epoch in range(epochs):\n",
    "    epoch += 1\n",
    "    # Convert numpy array to torch Variable\n",
    "    inputs = torch.from_numpy(x_train).requires_grad_()\n",
    "    labels = torch.from_numpy(y_train)\n",
    "\n",
    "    # Clear gradients w.r.t. parameters\n",
    "    optimizer.zero_grad() \n",
    "    \n",
    "    # Forward to get output\n",
    "    outputs = model(inputs)\n",
    "    \n",
    "    # Calculate Loss\n",
    "    loss = criterion(outputs, labels)\n",
    "    \n",
    "    # Getting gradients w.r.t. parameters\n",
    "    loss.backward()\n",
    "    \n",
    "    # Updating parameters\n",
    "    optimizer.step()"
   ]
  },
  {
   "cell_type": "markdown",
   "metadata": {},
   "source": [
    "GPU: 2 things must be on GPU\n",
    "- `model`\n",
    "- `tensors with gradients`"
   ]
  },
  {
   "cell_type": "code",
   "execution_count": 25,
   "metadata": {},
   "outputs": [
    {
     "name": "stdout",
     "output_type": "stream",
     "text": [
      "epoch 1, loss 218.6979522705078\n",
      "epoch 2, loss 18.266761779785156\n",
      "epoch 3, loss 1.9134368896484375\n",
      "epoch 4, loss 0.5748185515403748\n",
      "epoch 5, loss 0.46095579862594604\n",
      "epoch 6, loss 0.44704410433769226\n",
      "epoch 7, loss 0.4413372874259949\n",
      "epoch 8, loss 0.43635034561157227\n",
      "epoch 9, loss 0.43147289752960205\n",
      "epoch 10, loss 0.4266543686389923\n",
      "epoch 11, loss 0.4218900799751282\n",
      "epoch 12, loss 0.41717907786369324\n",
      "epoch 13, loss 0.41252031922340393\n",
      "epoch 14, loss 0.4079137146472931\n",
      "epoch 15, loss 0.40335890650749207\n",
      "epoch 16, loss 0.39885425567626953\n",
      "epoch 17, loss 0.394400417804718\n",
      "epoch 18, loss 0.38999634981155396\n",
      "epoch 19, loss 0.3856414556503296\n",
      "epoch 20, loss 0.38133496046066284\n",
      "epoch 21, loss 0.3770767152309418\n",
      "epoch 22, loss 0.3728657066822052\n",
      "epoch 23, loss 0.36870211362838745\n",
      "epoch 24, loss 0.3645850419998169\n",
      "epoch 25, loss 0.36051347851753235\n",
      "epoch 26, loss 0.3564881682395935\n",
      "epoch 27, loss 0.3525069057941437\n",
      "epoch 28, loss 0.3485707938671112\n",
      "epoch 29, loss 0.3446781635284424\n",
      "epoch 30, loss 0.34082934260368347\n",
      "epoch 31, loss 0.33702316880226135\n",
      "epoch 32, loss 0.3332597017288208\n",
      "epoch 33, loss 0.3295383155345917\n",
      "epoch 34, loss 0.32585832476615906\n",
      "epoch 35, loss 0.32221949100494385\n",
      "epoch 36, loss 0.3186212480068207\n",
      "epoch 37, loss 0.3150634467601776\n",
      "epoch 38, loss 0.3115449845790863\n",
      "epoch 39, loss 0.3080659508705139\n",
      "epoch 40, loss 0.30462580919265747\n",
      "epoch 41, loss 0.30122408270835876\n",
      "epoch 42, loss 0.2978604733943939\n",
      "epoch 43, loss 0.29453423619270325\n",
      "epoch 44, loss 0.29124560952186584\n",
      "epoch 45, loss 0.28799307346343994\n",
      "epoch 46, loss 0.28477707505226135\n",
      "epoch 47, loss 0.28159716725349426\n",
      "epoch 48, loss 0.278452605009079\n",
      "epoch 49, loss 0.27534282207489014\n",
      "epoch 50, loss 0.2722682058811188\n",
      "epoch 51, loss 0.26922786235809326\n",
      "epoch 52, loss 0.26622164249420166\n",
      "epoch 53, loss 0.26324865221977234\n",
      "epoch 54, loss 0.26030927896499634\n",
      "epoch 55, loss 0.25740206241607666\n",
      "epoch 56, loss 0.2545277774333954\n",
      "epoch 57, loss 0.25168564915657043\n",
      "epoch 58, loss 0.24887500703334808\n",
      "epoch 59, loss 0.2460957020521164\n",
      "epoch 60, loss 0.24334782361984253\n",
      "epoch 61, loss 0.24063049256801605\n",
      "epoch 62, loss 0.2379431277513504\n",
      "epoch 63, loss 0.23528625071048737\n",
      "epoch 64, loss 0.23265887796878815\n",
      "epoch 65, loss 0.23006092011928558\n",
      "epoch 66, loss 0.2274915724992752\n",
      "epoch 67, loss 0.22495150566101074\n",
      "epoch 68, loss 0.22243934869766235\n",
      "epoch 69, loss 0.21995539963245392\n",
      "epoch 70, loss 0.21749934554100037\n",
      "epoch 71, loss 0.21507039666175842\n",
      "epoch 72, loss 0.21266856789588928\n",
      "epoch 73, loss 0.2102939933538437\n",
      "epoch 74, loss 0.2079455852508545\n",
      "epoch 75, loss 0.20562349259853363\n",
      "epoch 76, loss 0.20332728326320648\n",
      "epoch 77, loss 0.20105686783790588\n",
      "epoch 78, loss 0.1988116204738617\n",
      "epoch 79, loss 0.19659137725830078\n",
      "epoch 80, loss 0.19439616799354553\n",
      "epoch 81, loss 0.19222532212734222\n",
      "epoch 82, loss 0.19007891416549683\n",
      "epoch 83, loss 0.18795622885227203\n",
      "epoch 84, loss 0.18585744500160217\n",
      "epoch 85, loss 0.18378186225891113\n",
      "epoch 86, loss 0.18172989785671234\n",
      "epoch 87, loss 0.17970043420791626\n",
      "epoch 88, loss 0.17769354581832886\n",
      "epoch 89, loss 0.1757092922925949\n",
      "epoch 90, loss 0.1737471967935562\n",
      "epoch 91, loss 0.17180709540843964\n",
      "epoch 92, loss 0.169888436794281\n",
      "epoch 93, loss 0.16799147427082062\n",
      "epoch 94, loss 0.16611559689044952\n",
      "epoch 95, loss 0.16426041722297668\n",
      "epoch 96, loss 0.16242611408233643\n",
      "epoch 97, loss 0.16061249375343323\n",
      "epoch 98, loss 0.15881870687007904\n",
      "epoch 99, loss 0.157045379281044\n",
      "epoch 100, loss 0.15529166162014008\n"
     ]
    }
   ],
   "source": [
    "import torch\n",
    "import torch.nn as nn\n",
    "import numpy as np\n",
    "\n",
    "'''\n",
    "STEP 1: CREATE MODEL CLASS\n",
    "'''\n",
    "class LinearRegressionModel(nn.Module):\n",
    "    def __init__(self, input_dim, output_dim):\n",
    "        super(LinearRegressionModel, self).__init__()\n",
    "        self.linear = nn.Linear(input_dim, output_dim)  \n",
    "    \n",
    "    def forward(self, x):\n",
    "        out = self.linear(x)\n",
    "        return out\n",
    "\n",
    "'''\n",
    "STEP 2: INSTANTIATE MODEL CLASS\n",
    "'''\n",
    "input_dim = 1\n",
    "output_dim = 1\n",
    "\n",
    "model = LinearRegressionModel(input_dim, output_dim)\n",
    "\n",
    "\n",
    "#######################\n",
    "#  USE GPU FOR MODEL  #\n",
    "#######################\n",
    "\n",
    "device = torch.device(\"cuda:0\" if torch.cuda.is_available() else \"cpu\")\n",
    "model.to(device)\n",
    "\n",
    "'''\n",
    "STEP 3: INSTANTIATE LOSS CLASS\n",
    "'''\n",
    "\n",
    "criterion = nn.MSELoss()\n",
    "\n",
    "'''\n",
    "STEP 4: INSTANTIATE OPTIMIZER CLASS\n",
    "'''\n",
    "\n",
    "learning_rate = 0.01\n",
    "\n",
    "optimizer = torch.optim.SGD(model.parameters(), lr=learning_rate)\n",
    "\n",
    "'''\n",
    "STEP 5: TRAIN THE MODEL\n",
    "'''\n",
    "epochs = 100\n",
    "for epoch in range(epochs):\n",
    "    epoch += 1\n",
    "    # Convert numpy array to torch Variable\n",
    "    \n",
    "    #######################\n",
    "    #  USE GPU FOR MODEL  #\n",
    "    #######################\n",
    "    inputs = torch.from_numpy(x_train).to(device)\n",
    "    labels = torch.from_numpy(y_train).to(device)\n",
    "    \n",
    "    # Clear gradients w.r.t. parameters\n",
    "    optimizer.zero_grad() \n",
    "    \n",
    "    # Forward to get output\n",
    "    outputs = model(inputs)\n",
    "    \n",
    "    # Calculate Loss\n",
    "    loss = criterion(outputs, labels)\n",
    "    \n",
    "    # Getting gradients w.r.t. parameters\n",
    "    loss.backward()\n",
    "    \n",
    "    # Updating parameters\n",
    "    optimizer.step()\n",
    "    \n",
    "    # Logging\n",
    "    print('epoch {}, loss {}'.format(epoch, loss.item()))"
   ]
  },
  {
   "cell_type": "markdown",
   "metadata": {},
   "source": [
    "# Summary"
   ]
  },
  {
   "cell_type": "markdown",
   "metadata": {},
   "source": [
    "- Simple **linear regression basics**\n",
    "    - $y = Ax + B$\n",
    "    - $y = 2x + 1$\n",
    "- **Example** of simple linear regression\n",
    "- **Aim** of linear regression\n",
    "    - Minimizing distance between the points and the line\n",
    "        - Calculate \"distance\" through `MSE`\n",
    "        - Calculate `gradients`\n",
    "        - Update parameters with `parameters = parameters - learning_rate * gradients`\n",
    "        - Slowly update parameters $A$ and $B$ model the linear relationship between $y$ and $x$ of the form $y = 2x + 1$\n",
    "- Built a linear regression **model** in **CPU and GPU**\n",
    "    - Step 1: Create Model Class\n",
    "    - Step 2: Instantiate Model Class\n",
    "    - Step 3: Instantiate Loss Class\n",
    "    - Step 4: Instantiate Optimizer Class\n",
    "    - Step 5: Train Model\n",
    "- Important things to be on **GPU**\n",
    "    - `model`\n",
    "    - `tensors with gradients`\n",
    "- How to bring to **GPU**?\n",
    "    - `model_name.cuda()`\n",
    "    - `variable_name.cuda()`"
   ]
  }
 ],
 "metadata": {
  "anaconda-cloud": {},
  "kernelspec": {
   "display_name": "Python 3",
   "language": "python",
   "name": "python3"
  },
  "language_info": {
   "codemirror_mode": {
    "name": "ipython",
    "version": 3
   },
   "file_extension": ".py",
   "mimetype": "text/x-python",
   "name": "python",
   "nbconvert_exporter": "python",
   "pygments_lexer": "ipython3",
   "version": "3.8.5"
  }
 },
 "nbformat": 4,
 "nbformat_minor": 4
}
